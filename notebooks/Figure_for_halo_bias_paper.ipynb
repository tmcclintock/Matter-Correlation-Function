{
 "cells": [
  {
   "cell_type": "markdown",
   "metadata": {},
   "source": [
    "# $\\xi_{\\rm mm}$ emulator\n",
    "\n",
    "This notebook is used to create a figure for McClintock et al. (2019), which presents an emulator for the halo bias. This figure teases the $\\xi_{\\rm mm}$ emulator."
   ]
  },
  {
   "cell_type": "code",
   "execution_count": 1,
   "metadata": {},
   "outputs": [],
   "source": [
    "import numpy as np\n",
    "import matplotlib.pyplot as plt\n",
    "from ximm_emulator import *\n",
    "%matplotlib inline"
   ]
  },
  {
   "cell_type": "code",
   "execution_count": 2,
   "metadata": {},
   "outputs": [],
   "source": [
    "plt.rc(\"font\", size=16, family=\"serif\")\n",
    "plt.rc(\"text\", usetex=True)"
   ]
  },
  {
   "cell_type": "markdown",
   "metadata": {},
   "source": [
    "### A simple example of how to call the emulator"
   ]
  },
  {
   "cell_type": "code",
   "execution_count": 3,
   "metadata": {},
   "outputs": [],
   "source": [
    "#Define a cosmology. This is an array that has\n",
    "#Omega_b*h^2, Omega_cdm*h^2, w_0, n_s, ln(10^10 * A_s), H0, N_eff\n",
    "cosmology = np.array([ 2.32629e-02, 1.07830e-01, -7.26513e-01, 9.80515e-01, \n",
    "                      3.03895e+00, 6.32317e+01, 2.95000e+00])"
   ]
  },
  {
   "cell_type": "code",
   "execution_count": 4,
   "metadata": {},
   "outputs": [
    {
     "name": "stdout",
     "output_type": "stream",
     "text": [
      "CLASS is computing\n",
      "\tCLASS done\n"
     ]
    }
   ],
   "source": [
    "#Make the emulator object\n",
    "emu = ximm_emulator(cosmology)"
   ]
  },
  {
   "cell_type": "code",
   "execution_count": 5,
   "metadata": {},
   "outputs": [],
   "source": [
    "#Predict xi_mm.\n",
    "#Note: the emulator outputs xi_mm at 10 redshifts.\n",
    "#In the future you will be able to query the emulator for the curve at an arbitrary redshift.\n",
    "xi_mm = emu.predict(cosmology) #Don't need to give the cosmology here, but just trying to be clear\n",
    "#Note: the correlation function is at 50 specific radii between 0.1 and 75 Mpc/h.\n",
    "radii = emu.get_radii()\n",
    "redshifts = emu.get_redshifts()"
   ]
  },
  {
   "cell_type": "code",
   "execution_count": 6,
   "metadata": {},
   "outputs": [
    {
     "name": "stdout",
     "output_type": "stream",
     "text": [
      "Still need to add data\n"
     ]
    },
    {
     "data": {
      "image/png": "[encoded data removed]",
      "text/plain": [
       "<Figure size 432x288 with 1 Axes>"
      ]
     },
     "metadata": {
      "needs_background": "light"
     },
     "output_type": "display_data"
    }
   ],
   "source": [
    "#Plot everything\n",
    "c = [\"r\", \"b\"]\n",
    "plt.xlim(5, 45)\n",
    "for count, i in enumerate([2, 9]):\n",
    "    plt.plot(radii, xi_mm[i], label=r\"$z=%.2f$\"%redshifts[i], c=c[count])\n",
    "plt.plot([], [], c='k', label=r\"Emulator\")\n",
    "plt.xlabel(r\"$r\\ [h^{-1}{\\rm Mpc}]$\")\n",
    "plt.ylabel(r\"$\\xi_{\\rm mm}(r,z)$\")\n",
    "plt.yscale(\"log\")\n",
    "plt.ylim(3e-3, 1)\n",
    "plt.legend(loc=0, frameon=False)#, fontsize=7)\n",
    "print(\"Still need to add data\")"
   ]
  },
  {
   "cell_type": "code",
   "execution_count": null,
   "metadata": {},
   "outputs": [],
   "source": []
  }
 ],
 "metadata": {
  "kernelspec": {
   "display_name": "Python 2",
   "language": "python",
   "name": "python2"
  },
  "language_info": {
   "codemirror_mode": {
    "name": "ipython",
    "version": 2
   },
   "file_extension": ".py",
   "mimetype": "text/x-python",
   "name": "python",
   "nbconvert_exporter": "python",
   "pygments_lexer": "ipython2",
   "version": "2.7.15"
  }
 },
 "nbformat": 4,
 "nbformat_minor": 2
}
